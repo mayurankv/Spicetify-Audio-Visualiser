{
 "cells": [
  {
   "cell_type": "code",
   "execution_count": 8,
   "metadata": {},
   "outputs": [],
   "source": [
    "import matplotlib.pyplot as plt\n",
    "import matplotlib.cm as cm\n",
    "import numpy as np\n",
    "import cv2 as cv\n",
    "import scipy.cluster.vq as scv\n"
   ]
  },
  {
   "cell_type": "code",
   "execution_count": 15,
   "metadata": {},
   "outputs": [
    {
     "name": "stderr",
     "output_type": "stream",
     "text": [
      "/var/folders/fn/2zhqx_t91tl8b3g3kr7m6_ww0000gp/T/ipykernel_76477/3826216963.py:1: MatplotlibDeprecationWarning: The get_cmap function was deprecated in Matplotlib 3.7 and will be removed two minor releases later. Use ``matplotlib.colormaps[name]`` or ``matplotlib.colormaps.get_cmap(obj)`` instead.\n",
      "  cmap = cm.get_cmap(\"hot\")\n"
     ]
    }
   ],
   "source": [
    "cmap = cm.get_cmap(\"hot\")\n",
    "\n",
    "def colormap2arr(arr,cmap):\n",
    "    # http://stackoverflow.com/questions/3720840/how-to-reverse-color-map-image-to-scalar-values/3722674#3722674\n",
    "    gradient=cmap(np.linspace(0.0,1.0,100))[:,:-1]\n",
    "\n",
    "    # Reshape arr to something like (240*240, 4), all the 4-tuples in a long list...\n",
    "    arr2=arr.reshape((arr.shape[0]*arr.shape[1],arr.shape[2]))\n",
    "\n",
    "    # Use vector quantization to shift the values in arr2 to the nearest point in\n",
    "    # the code book (gradient).\n",
    "    code,dist=scv.vq(arr2,gradient)\n",
    "\n",
    "    # code is an array of length arr2 (240*240), holding the code book index for\n",
    "    # each observation. (arr2 are the \"observations\".)\n",
    "    # Scale the values so they are from 0 to 1.\n",
    "    values=code.astype('float')/gradient.shape[0]\n",
    "\n",
    "    # Reshape values back to (240,240)\n",
    "    values=values.reshape(arr.shape[0],arr.shape[1])\n",
    "    values=values[::-1]\n",
    "    return values\n"
   ]
  },
  {
   "cell_type": "code",
   "execution_count": 35,
   "metadata": {},
   "outputs": [
    {
     "data": {
      "text/plain": [
       "array([[0.0416    , 0.        , 0.        ],\n",
       "       [0.06218969, 0.        , 0.        ],\n",
       "       [0.09307422, 0.        , 0.        ],\n",
       "       [0.11366391, 0.        , 0.        ],\n",
       "       [0.14454844, 0.        , 0.        ],\n",
       "       [0.16513813, 0.        , 0.        ],\n",
       "       [0.19602266, 0.        , 0.        ],\n",
       "       [0.22690719, 0.        , 0.        ],\n",
       "       [0.24749688, 0.        , 0.        ],\n",
       "       [0.27838141, 0.        , 0.        ],\n",
       "       [0.2989711 , 0.        , 0.        ],\n",
       "       [0.32985563, 0.        , 0.        ],\n",
       "       [0.36074017, 0.        , 0.        ],\n",
       "       [0.38132985, 0.        , 0.        ],\n",
       "       [0.41221439, 0.        , 0.        ],\n",
       "       [0.43280407, 0.        , 0.        ],\n",
       "       [0.46368861, 0.        , 0.        ],\n",
       "       [0.48427829, 0.        , 0.        ],\n",
       "       [0.51516283, 0.        , 0.        ],\n",
       "       [0.54604736, 0.        , 0.        ],\n",
       "       [0.56663705, 0.        , 0.        ],\n",
       "       [0.59752158, 0.        , 0.        ],\n",
       "       [0.61811127, 0.        , 0.        ],\n",
       "       [0.6489958 , 0.        , 0.        ],\n",
       "       [0.67988033, 0.        , 0.        ],\n",
       "       [0.70047002, 0.        , 0.        ],\n",
       "       [0.73135455, 0.        , 0.        ],\n",
       "       [0.75194424, 0.        , 0.        ],\n",
       "       [0.78282877, 0.        , 0.        ],\n",
       "       [0.80341846, 0.        , 0.        ],\n",
       "       [0.83430299, 0.        , 0.        ],\n",
       "       [0.86518752, 0.        , 0.        ],\n",
       "       [0.88577721, 0.        , 0.        ],\n",
       "       [0.91666174, 0.        , 0.        ],\n",
       "       [0.93725143, 0.        , 0.        ],\n",
       "       [0.96813596, 0.        , 0.        ],\n",
       "       [0.9990205 , 0.        , 0.        ],\n",
       "       [1.        , 0.01960877, 0.        ],\n",
       "       [1.        , 0.05049107, 0.        ],\n",
       "       [1.        , 0.07107927, 0.        ],\n",
       "       [1.        , 0.10196158, 0.        ],\n",
       "       [1.        , 0.13284388, 0.        ],\n",
       "       [1.        , 0.15343208, 0.        ],\n",
       "       [1.        , 0.18431438, 0.        ],\n",
       "       [1.        , 0.20490259, 0.        ],\n",
       "       [1.        , 0.23578489, 0.        ],\n",
       "       [1.        , 0.25637309, 0.        ],\n",
       "       [1.        , 0.28725539, 0.        ],\n",
       "       [1.        , 0.3181377 , 0.        ],\n",
       "       [1.        , 0.3387259 , 0.        ],\n",
       "       [1.        , 0.3696082 , 0.        ],\n",
       "       [1.        , 0.3901964 , 0.        ],\n",
       "       [1.        , 0.42107871, 0.        ],\n",
       "       [1.        , 0.45196101, 0.        ],\n",
       "       [1.        , 0.47254921, 0.        ],\n",
       "       [1.        , 0.50343151, 0.        ],\n",
       "       [1.        , 0.52401971, 0.        ],\n",
       "       [1.        , 0.55490202, 0.        ],\n",
       "       [1.        , 0.57549022, 0.        ],\n",
       "       [1.        , 0.60637252, 0.        ],\n",
       "       [1.        , 0.63725482, 0.        ],\n",
       "       [1.        , 0.65784303, 0.        ],\n",
       "       [1.        , 0.68872533, 0.        ],\n",
       "       [1.        , 0.70931353, 0.        ],\n",
       "       [1.        , 0.74019583, 0.        ],\n",
       "       [1.        , 0.77107814, 0.        ],\n",
       "       [1.        , 0.79166634, 0.        ],\n",
       "       [1.        , 0.82254864, 0.        ],\n",
       "       [1.        , 0.84313684, 0.        ],\n",
       "       [1.        , 0.87401915, 0.        ],\n",
       "       [1.        , 0.90490145, 0.        ],\n",
       "       [1.        , 0.92548965, 0.        ],\n",
       "       [1.        , 0.95637195, 0.        ],\n",
       "       [1.        , 0.97696016, 0.        ],\n",
       "       [1.        , 1.        , 0.01176372],\n",
       "       [1.        , 1.        , 0.0426461 ],\n",
       "       [1.        , 1.        , 0.08896968],\n",
       "       [1.        , 1.        , 0.13529325],\n",
       "       [1.        , 1.        , 0.16617564],\n",
       "       [1.        , 1.        , 0.21249921],\n",
       "       [1.        , 1.        , 0.2433816 ],\n",
       "       [1.        , 1.        , 0.28970517],\n",
       "       [1.        , 1.        , 0.33602875],\n",
       "       [1.        , 1.        , 0.36691113],\n",
       "       [1.        , 1.        , 0.41323471],\n",
       "       [1.        , 1.        , 0.44411709],\n",
       "       [1.        , 1.        , 0.49044067],\n",
       "       [1.        , 1.        , 0.52132305],\n",
       "       [1.        , 1.        , 0.56764663],\n",
       "       [1.        , 1.        , 0.6139702 ],\n",
       "       [1.        , 1.        , 0.64485259],\n",
       "       [1.        , 1.        , 0.69117616],\n",
       "       [1.        , 1.        , 0.72205855],\n",
       "       [1.        , 1.        , 0.76838212],\n",
       "       [1.        , 1.        , 0.8147057 ],\n",
       "       [1.        , 1.        , 0.84558808],\n",
       "       [1.        , 1.        , 0.89191166],\n",
       "       [1.        , 1.        , 0.92279404],\n",
       "       [1.        , 1.        , 0.96911762],\n",
       "       [1.        , 1.        , 1.        ]])"
      ]
     },
     "execution_count": 35,
     "metadata": {},
     "output_type": "execute_result"
    }
   ],
   "source": [
    "gradient=cmap(np.linspace(0.0,1.0,100))[:,:-1]\n",
    "gradient\n"
   ]
  },
  {
   "cell_type": "code",
   "execution_count": 19,
   "metadata": {},
   "outputs": [],
   "source": [
    "im1 = cv.imread(\"1.png\")\n",
    "im2 = cv.imread(\"2.png\")\n",
    "im3 = cv.imread(\"3.png\")\n",
    "im4 = cv.imread(\"4.png\")\n",
    "im5 = cv.imread(\"5.png\")\n",
    "im6 = cv.imread(\"6.png\")\n",
    "im7 = cv.imread(\"7.png\")\n",
    "im8 = cv.imread(\"8.png\")\n",
    "im9 = cv.imread(\"9.png\")\n",
    "im10 = cv.imread(\"10.png\")\n",
    "im11 = cv.imread(\"11.png\")\n",
    "im12 = cv.imread(\"12.png\")\n"
   ]
  },
  {
   "cell_type": "code",
   "execution_count": 21,
   "metadata": {},
   "outputs": [],
   "source": [
    "vals1 = colormap2arr(im1,cmap)\n",
    "vals2 = colormap2arr(im2,cmap)\n",
    "vals3 = colormap2arr(im3,cmap)\n",
    "vals4 = colormap2arr(im4,cmap)\n",
    "vals5 = colormap2arr(im5,cmap)\n",
    "vals6 = colormap2arr(im6,cmap)\n",
    "vals7 = colormap2arr(im7,cmap)\n",
    "vals8 = colormap2arr(im8,cmap)\n",
    "vals9 = colormap2arr(im9,cmap)\n",
    "vals10 = colormap2arr(im10,cmap)\n",
    "vals11 = colormap2arr(im11,cmap)\n",
    "vals12 = colormap2arr(im12,cmap)\n"
   ]
  },
  {
   "cell_type": "code",
   "execution_count": 22,
   "metadata": {},
   "outputs": [
    {
     "data": {
      "text/plain": [
       "array([[0.99, 0.99, 0.99, ..., 0.99, 0.99, 0.99],\n",
       "       [0.99, 0.99, 0.99, ..., 0.99, 0.99, 0.99],\n",
       "       [0.99, 0.99, 0.99, ..., 0.99, 0.99, 0.99],\n",
       "       ...,\n",
       "       [0.99, 0.99, 0.99, ..., 0.99, 0.99, 0.99],\n",
       "       [0.99, 0.99, 0.99, ..., 0.99, 0.99, 0.99],\n",
       "       [0.99, 0.99, 0.99, ..., 0.99, 0.99, 0.99]])"
      ]
     },
     "execution_count": 22,
     "metadata": {},
     "output_type": "execute_result"
    }
   ],
   "source": [
    "vals1\n"
   ]
  },
  {
   "cell_type": "code",
   "execution_count": 33,
   "metadata": {},
   "outputs": [
    {
     "name": "stdout",
     "output_type": "stream",
     "text": [
      "0.99\n",
      "0.99\n"
     ]
    }
   ],
   "source": [
    "vals = vals9\n",
    "print(np.min(vals))\n",
    "print(np.min(vals))\n"
   ]
  },
  {
   "cell_type": "code",
   "execution_count": null,
   "metadata": {},
   "outputs": [],
   "source": []
  }
 ],
 "metadata": {
  "kernelspec": {
   "display_name": "Python 3",
   "language": "python",
   "name": "python3"
  },
  "language_info": {
   "codemirror_mode": {
    "name": "ipython",
    "version": 3
   },
   "file_extension": ".py",
   "mimetype": "text/x-python",
   "name": "python",
   "nbconvert_exporter": "python",
   "pygments_lexer": "ipython3",
   "version": "3.11.7"
  }
 },
 "nbformat": 4,
 "nbformat_minor": 2
}
