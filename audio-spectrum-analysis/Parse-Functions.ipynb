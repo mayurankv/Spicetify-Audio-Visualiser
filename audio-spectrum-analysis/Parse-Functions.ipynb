{
 "cells": [
  {
   "cell_type": "code",
   "execution_count": 2,
   "metadata": {},
   "outputs": [],
   "source": [
    "import matplotlib as mpl\n",
    "import numpy as np\n",
    "import cv2 as cv\n",
    "import scipy.cluster.vq as scv\n",
    "from IPython.display import Image\n"
   ]
  },
  {
   "cell_type": "code",
   "execution_count": 3,
   "metadata": {},
   "outputs": [],
   "source": [
    "cmap = mpl.colormaps[\"hot\"]\n",
    "\n",
    "def colormap2arr(arr,cmap):\n",
    "    # http://stackoverflow.com/questions/3720840/how-to-reverse-color-map-image-to-scalar-values/3722674#3722674\n",
    "    gradient=cmap(np.linspace(0.0,1.0,100))[:,:-1][::-1]\n",
    "\n",
    "    # Reshape arr to something like (240*240, 4), all the 4-tuples in a long list...\n",
    "    arr2=arr.reshape((arr.shape[0]*arr.shape[1],arr.shape[2]))\n",
    "\n",
    "    # Use vector quantization to shift the values in arr2 to the nearest point in\n",
    "    # the code book (gradient).\n",
    "    code,dist=scv.vq(arr2,gradient)\n",
    "\n",
    "    # code is an array of length arr2 (240*240), holding the code book index for\n",
    "    # each observation. (arr2 are the \"observations\".)\n",
    "    # Scale the values so they are from 0 to 1.\n",
    "    values=code.astype('float')/gradient.shape[0]\n",
    "\n",
    "    # Reshape values back to (240,240)\n",
    "    values=values.reshape(arr.shape[0],arr.shape[1])\n",
    "    values=values[::-1]\n",
    "    return values\n"
   ]
  },
  {
   "cell_type": "code",
   "execution_count": 4,
   "metadata": {},
   "outputs": [
    {
     "data": {
      "image/png": "[encoded data removed]",
      "text/html": [
       "<div style=\"vertical-align: middle;\"><strong>hot</strong> </div><div class=\"cmap\"><img alt=\"hot colormap\" title=\"hot\" style=\"border: 1px solid #555;\" src=\"data:image/png;base64,iVBORw0KGgoAAAANSUhEUgAAAgAAAABACAYAAABsv8+/AAAAEnRFWHRUaXRsZQBob3QgY29sb3JtYXBMLchKAAAAGHRFWHREZXNjcmlwdGlvbgBob3QgY29sb3JtYXBABboQAAAAMHRFWHRBdXRob3IATWF0cGxvdGxpYiB2My44LjIsIGh0dHBzOi8vbWF0cGxvdGxpYi5vcmcPFd4SAAAAMnRFWHRTb2Z0d2FyZQBNYXRwbG90bGliIHYzLjguMiwgaHR0cHM6Ly9tYXRwbG90bGliLm9yZyGzQTUAAAFaSURBVHic7da5DoIAEADRRaz8///VwqOgUQsjZN5rNiEsRwLJLJeZ68zMOnenx1w3c3v80/Ps29/T/vLuQkd9sdr+UZ5zr/uvH+H8p7l+eb77/2I+vwIAIEQAAECQAACAIAEAAEECAACCBAAABAkAAAgSAAAQJAAAIEgAAECQAACAIAEAAEECAACCBAAABAkAAAgSAAAQJAAAIEgAAECQAACAIAEAAEECAACCBAAABAkAAAgSAAAQJAAAIEgAAECQAACAIAEAAEECAACCBAAABAkAAAgSAAAQJAAAIEgAAECQAACAIAEAAEECAACCBAAABAkAAAgSAAAQJAAAIEgAAECQAACAIAEAAEECAACCBAAABAkAAAgSAAAQJAAAIEgAAECQAACAIAEAAEECAACCBAAABAkAAAgSAAAQJAAAIEgAAECQAACAIAEAAEECAACCBAAABAkAAAi6AblkBHyWiDNaAAAAAElFTkSuQmCC\"></div><div style=\"vertical-align: middle; max-width: 514px; display: flex; justify-content: space-between;\"><div style=\"float: left;\"><div title=\"#0b0000ff\" style=\"display: inline-block; width: 1em; height: 1em; margin: 0; vertical-align: middle; border: 1px solid #555; background-color: #0b0000ff;\"></div> under</div><div style=\"margin: 0 auto; display: inline-block;\">bad <div title=\"#00000000\" style=\"display: inline-block; width: 1em; height: 1em; margin: 0; vertical-align: middle; border: 1px solid #555; background-color: #00000000;\"></div></div><div style=\"float: right;\">over <div title=\"#ffffffff\" style=\"display: inline-block; width: 1em; height: 1em; margin: 0; vertical-align: middle; border: 1px solid #555; background-color: #ffffffff;\"></div></div>"
      ],
      "text/plain": [
       "<matplotlib.colors.LinearSegmentedColormap at 0x169ed9fd0>"
      ]
     },
     "execution_count": 4,
     "metadata": {},
     "output_type": "execute_result"
    }
   ],
   "source": [
    "cmap\n"
   ]
  },
  {
   "cell_type": "code",
   "execution_count": 5,
   "metadata": {},
   "outputs": [
    {
     "data": {
      "image/png": "[encoded data removed]",
      "text/plain": [
       "<IPython.core.display.Image object>"
      ]
     },
     "execution_count": 5,
     "metadata": {},
     "output_type": "execute_result"
    }
   ],
   "source": [
    "Image(filename='2.png')\n"
   ]
  },
  {
   "cell_type": "code",
   "execution_count": 6,
   "metadata": {},
   "outputs": [],
   "source": [
    "ims = list(map(lambda i: cv.imread(f\"{i}.png\")[...,::-1] / 255, np.arange(1,12 + 1)))\n",
    "vals = np.array(list(map(lambda im: colormap2arr(im, cmap), ims)))\n"
   ]
  },
  {
   "cell_type": "code",
   "execution_count": 7,
   "metadata": {},
   "outputs": [
    {
     "data": {
      "text/plain": [
       "'array([[[0.54, 0.54, 0.54, ..., 0.54, 0.54, 0.54],\\n        [0.53, 0.53, 0.53, ..., 0.54, 0.54, 0.53],\\n        [0.53, 0.53, 0.53, ..., 0.54, 0.54, 0.53],\\n        ...,\\n        [0.53, 0.53, 0.53, ..., 0.53, 0.53, 0.54],\\n        [0.53, 0.53, 0.53, ..., 0.53, 0.53, 0.54],\\n        [0.54, 0.54, 0.54, ..., 0.54, 0.54, 0.54]],\\n\\n       [[0.11, 0.1 , 0.09, ..., 0.86, 0.9 , 0.89],\\n        [0.12, 0.11, 0.11, ..., 0.4 , 0.43, 0.82],\\n        [0.14, 0.13, 0.13, ..., 0.13, 0.14, 0.14],\\n        ...,\\n        [0.93, 0.92, 0.91, ..., 0.92, 0.92, 0.92],\\n        [0.93, 0.92, 0.91, ..., 0.91, 0.91, 0.92],\\n        [0.93, 0.91, 0.9 , ..., 0.91, 0.91, 0.91]],\\n\\n       [[0.82, 0.81, 0.81, ..., 0.92, 0.9 , 0.87],\\n        [0.76, 0.75, 0.75, ..., 0.85, 0.84, 0.82],\\n        [0.54, 0.55, 0.7 , ..., 0.78, 0.78, 0.78],\\n        ...,\\n        [0.87, 0.88, 0.88, ..., 0.9 , 0.9 , 0.91],\\n        [0.88, 0.88, 0.89, ..., 0.91, 0.92, 0.92],\\n        [0.88, 0.88, 0.89, ..., 0.92, 0.92, 0.93]],\\n\\n       ...,\\n\\n       [[0.04, 0.03, 0.03, ..., 0.9 , 0.92, 0.86],\\n        [0.02, 0.02, 0.02, ..., 0.82, 0.84, 0.45],\\n        [0.02, 0.01, 0.01, ..., 0.42, 0.44, 0.4 ],\\n        ...,\\n        [0.91, 0.9 , 0.88, ..., 0.42, 0.43, 0.42],\\n        [0.91, 0.89, 0.86, ..., 0.4 , 0.41, 0.4 ],\\n        [0.9 , 0.88, 0.85, ..., 0.4 , 0.4 , 0.4 ]],\\n\\n       [[0.99, 0.98, 0.96, ..., 0.88, 0.89, 0.86],\\n        [0.98, 0.98, 0.96, ..., 0.42, 0.43, 0.41],\\n        [0.98, 0.97, 0.95, ..., 0.34, 0.35, 0.18],\\n        ...,\\n        [0.75, 0.73, 0.7 , ..., 0.47, 0.46, 0.46],\\n        [0.76, 0.74, 0.71, ..., 0.48, 0.48, 0.47],\\n        [0.77, 0.75, 0.72, ..., 0.5 , 0.5 , 0.49]],\\n\\n       [[0.8 , 0.78, 0.76, ..., 0.9 , 0.9 , 0.89],\\n        [0.5 , 0.5 , 0.51, ..., 0.84, 0.85, 0.84],\\n        [0.51, 0.51, 0.52, ..., 0.78, 0.8 , 0.8 ],\\n        ...,\\n        [0.74, 0.54, 0.54, ..., 0.5 , 0.49, 0.49],\\n        [0.77, 0.74, 0.73, ..., 0.53, 0.53, 0.73],\\n        [0.81, 0.79, 0.77, ..., 0.77, 0.78, 0.78]]])'"
      ]
     },
     "execution_count": 7,
     "metadata": {},
     "output_type": "execute_result"
    }
   ],
   "source": [
    "repr(vals)\n"
   ]
  },
  {
   "cell_type": "code",
   "execution_count": 8,
   "metadata": {},
   "outputs": [],
   "source": [
    "for i in range(vals.shape[0]):\n",
    "\tnp.savetxt(f\"vals{i+1}.txt\", vals[i].flatten(), fmt=\"%.4f\", newline=', ')\n"
   ]
  },
  {
   "cell_type": "code",
   "execution_count": 9,
   "metadata": {},
   "outputs": [],
   "source": [
    "timbres = np.array([48.344, -1.819, 32.416, -12.468, 100.94, -35.143, -4.883, 24.404, 16.213, 9.187, -11.85, 15.407])\n",
    "pitches = np.array([0.342, 0.858, 0.656, 0.147, 1, 0.147, 0.312, 0.186, 0.416, 0.798, 0.179, 0.359])\n"
   ]
  },
  {
   "cell_type": "code",
   "execution_count": 10,
   "metadata": {},
   "outputs": [
    {
     "data": {
      "text/plain": [
       "(12, 110, 154)"
      ]
     },
     "execution_count": 10,
     "metadata": {},
     "output_type": "execute_result"
    }
   ],
   "source": [
    "vals.shape\n"
   ]
  },
  {
   "cell_type": "code",
   "execution_count": 58,
   "metadata": {},
   "outputs": [
    {
     "data": {
      "text/plain": [
       "array([[ 48.67451,  47.11449,  47.28388, ..., 148.08087, 141.75523,\n",
       "         54.10605],\n",
       "       [ 39.29804,  39.64775,  39.69101, ..., 124.8289 ,  53.91   ,\n",
       "         43.4146 ],\n",
       "       [ 37.79089,  38.75093,  43.78127, ...,  48.70241,  45.84601,\n",
       "         43.91315],\n",
       "       ...,\n",
       "       [131.6452 , 131.71561, 132.28129, ..., 148.62478, 150.22739,\n",
       "        152.84086],\n",
       "       [132.73306, 134.9361 , 136.8592 , ..., 149.39028, 151.70405,\n",
       "        155.97637],\n",
       "       [134.50713, 135.57043, 137.88413, ..., 153.80297, 154.65017,\n",
       "        157.1527 ]])"
      ]
     },
     "execution_count": 58,
     "metadata": {},
     "output_type": "execute_result"
    }
   ],
   "source": [
    "amplitudes = np.einsum('i,ijk->jk',timbres,vals)\n",
    "amplitudes\n"
   ]
  },
  {
   "cell_type": "code",
   "execution_count": 37,
   "metadata": {},
   "outputs": [
    {
     "ename": "SyntaxError",
     "evalue": "invalid syntax (1407392616.py, line 1)",
     "output_type": "error",
     "traceback": [
      "\u001b[0;36m  Cell \u001b[0;32mIn[37], line 1\u001b[0;36m\u001b[0m\n\u001b[0;31m    timbres *\u001b[0m\n\u001b[0m             ^\u001b[0m\n\u001b[0;31mSyntaxError\u001b[0m\u001b[0;31m:\u001b[0m invalid syntax\n"
     ]
    }
   ],
   "source": [
    "timbres *\n"
   ]
  },
  {
   "cell_type": "code",
   "execution_count": null,
   "metadata": {},
   "outputs": [],
   "source": []
  }
 ],
 "metadata": {
  "kernelspec": {
   "display_name": "Python 3",
   "language": "python",
   "name": "python3"
  },
  "language_info": {
   "codemirror_mode": {
    "name": "ipython",
    "version": 3
   },
   "file_extension": ".py",
   "mimetype": "text/x-python",
   "name": "python",
   "nbconvert_exporter": "python",
   "pygments_lexer": "ipython3",
   "version": "3.11.7"
  }
 },
 "nbformat": 4,
 "nbformat_minor": 2
}
